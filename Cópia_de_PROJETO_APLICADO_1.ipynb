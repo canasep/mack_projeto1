{
  "nbformat": 4,
  "nbformat_minor": 0,
  "metadata": {
    "colab": {
      "provenance": [],
      "include_colab_link": true
    },
    "kernelspec": {
      "name": "python3",
      "display_name": "Python 3"
    },
    "language_info": {
      "name": "python"
    }
  },
  "cells": [
    {
      "cell_type": "markdown",
      "metadata": {
        "id": "view-in-github",
        "colab_type": "text"
      },
      "source": [
        "<a href=\"https://colab.research.google.com/github/canasep/mack_projeto1/blob/main/C%C3%B3pia_de_PROJETO_APLICADO_1.ipynb\" target=\"_parent\"><img src=\"https://colab.research.google.com/assets/colab-badge.svg\" alt=\"Open In Colab\"/></a>"
      ]
    },
    {
      "cell_type": "markdown",
      "source": [
        "link collab to github"
      ],
      "metadata": {
        "id": "_IrOIKB6uY1Y"
      }
    },
    {
      "cell_type": "code",
      "execution_count": 6,
      "metadata": {
        "colab": {
          "base_uri": "https://localhost:8080/"
        },
        "id": "i5L1_nFrt2nJ",
        "outputId": "0133646c-2d91-43ba-d38a-72873b55efd6"
      },
      "outputs": [
        {
          "output_type": "stream",
          "name": "stdout",
          "text": [
            "Cloning into 'mack_projeto1'...\n",
            "remote: Enumerating objects: 191, done.\u001b[K\n",
            "remote: Counting objects: 100% (43/43), done.\u001b[K\n",
            "remote: Compressing objects: 100% (41/41), done.\u001b[K\n",
            "remote: Total 191 (delta 18), reused 2 (delta 2), pack-reused 148 (from 1)\u001b[K\n",
            "Receiving objects: 100% (191/191), 1.73 MiB | 19.44 MiB/s, done.\n",
            "Resolving deltas: 100% (71/71), done.\n"
          ]
        }
      ],
      "source": [
        "!git clone https://github.com/canasep/mack_projeto1.git"
      ]
    },
    {
      "cell_type": "code",
      "source": [
        "df.head()"
      ],
      "metadata": {
        "colab": {
          "base_uri": "https://localhost:8080/",
          "height": 206
        },
        "id": "pM3R0UD45BMs",
        "outputId": "55997417-7fa7-4f7a-8bd3-fef86a838709"
      },
      "execution_count": 11,
      "outputs": [
        {
          "output_type": "execute_result",
          "data": {
            "text/plain": [
              "        loja                    tipo Shopping software data_assinado  \\\n",
              "0  Loja - 01                 Lanches      Não    ANOTA    2024-07-09   \n",
              "1  Loja - 02  Hamburgueria / Hot Dog      Não    ANOTA    2024-07-09   \n",
              "2  Loja - 03  Hamburgueria / Hot Dog      Não    ANOTA    2024-07-09   \n",
              "3  Loja - 04  Hamburgueria / Hot Dog      Não    ANOTA    2024-07-10   \n",
              "4  Loja - 05  Hamburgueria / Hot Dog      Não    ANOTA    2024-07-12   \n",
              "\n",
              "  data_entregue data_primeiro_pedido Irregular  pedidos_m0  pedidos_m1  \\\n",
              "0    2024-08-19           2024-10-03       NaN           2           0   \n",
              "1    2024-07-18           2024-08-14       NaN         101         251   \n",
              "2    2024-07-18           2024-08-28       NaN          16          71   \n",
              "3    2024-08-23           2024-09-20       NaN          10          18   \n",
              "4    2024-07-27           2024-08-29       NaN          20         112   \n",
              "\n",
              "   pedidos_m2  \n",
              "0           0  \n",
              "1         187  \n",
              "2         113  \n",
              "3          19  \n",
              "4          85  "
            ],
            "text/html": [
              "\n",
              "  <div id=\"df-f6ba506b-f331-4d6b-8a25-7b29988ac26a\" class=\"colab-df-container\">\n",
              "    <div>\n",
              "<style scoped>\n",
              "    .dataframe tbody tr th:only-of-type {\n",
              "        vertical-align: middle;\n",
              "    }\n",
              "\n",
              "    .dataframe tbody tr th {\n",
              "        vertical-align: top;\n",
              "    }\n",
              "\n",
              "    .dataframe thead th {\n",
              "        text-align: right;\n",
              "    }\n",
              "</style>\n",
              "<table border=\"1\" class=\"dataframe\">\n",
              "  <thead>\n",
              "    <tr style=\"text-align: right;\">\n",
              "      <th></th>\n",
              "      <th>loja</th>\n",
              "      <th>tipo</th>\n",
              "      <th>Shopping</th>\n",
              "      <th>software</th>\n",
              "      <th>data_assinado</th>\n",
              "      <th>data_entregue</th>\n",
              "      <th>data_primeiro_pedido</th>\n",
              "      <th>Irregular</th>\n",
              "      <th>pedidos_m0</th>\n",
              "      <th>pedidos_m1</th>\n",
              "      <th>pedidos_m2</th>\n",
              "    </tr>\n",
              "  </thead>\n",
              "  <tbody>\n",
              "    <tr>\n",
              "      <th>0</th>\n",
              "      <td>Loja - 01</td>\n",
              "      <td>Lanches</td>\n",
              "      <td>Não</td>\n",
              "      <td>ANOTA</td>\n",
              "      <td>2024-07-09</td>\n",
              "      <td>2024-08-19</td>\n",
              "      <td>2024-10-03</td>\n",
              "      <td>NaN</td>\n",
              "      <td>2</td>\n",
              "      <td>0</td>\n",
              "      <td>0</td>\n",
              "    </tr>\n",
              "    <tr>\n",
              "      <th>1</th>\n",
              "      <td>Loja - 02</td>\n",
              "      <td>Hamburgueria / Hot Dog</td>\n",
              "      <td>Não</td>\n",
              "      <td>ANOTA</td>\n",
              "      <td>2024-07-09</td>\n",
              "      <td>2024-07-18</td>\n",
              "      <td>2024-08-14</td>\n",
              "      <td>NaN</td>\n",
              "      <td>101</td>\n",
              "      <td>251</td>\n",
              "      <td>187</td>\n",
              "    </tr>\n",
              "    <tr>\n",
              "      <th>2</th>\n",
              "      <td>Loja - 03</td>\n",
              "      <td>Hamburgueria / Hot Dog</td>\n",
              "      <td>Não</td>\n",
              "      <td>ANOTA</td>\n",
              "      <td>2024-07-09</td>\n",
              "      <td>2024-07-18</td>\n",
              "      <td>2024-08-28</td>\n",
              "      <td>NaN</td>\n",
              "      <td>16</td>\n",
              "      <td>71</td>\n",
              "      <td>113</td>\n",
              "    </tr>\n",
              "    <tr>\n",
              "      <th>3</th>\n",
              "      <td>Loja - 04</td>\n",
              "      <td>Hamburgueria / Hot Dog</td>\n",
              "      <td>Não</td>\n",
              "      <td>ANOTA</td>\n",
              "      <td>2024-07-10</td>\n",
              "      <td>2024-08-23</td>\n",
              "      <td>2024-09-20</td>\n",
              "      <td>NaN</td>\n",
              "      <td>10</td>\n",
              "      <td>18</td>\n",
              "      <td>19</td>\n",
              "    </tr>\n",
              "    <tr>\n",
              "      <th>4</th>\n",
              "      <td>Loja - 05</td>\n",
              "      <td>Hamburgueria / Hot Dog</td>\n",
              "      <td>Não</td>\n",
              "      <td>ANOTA</td>\n",
              "      <td>2024-07-12</td>\n",
              "      <td>2024-07-27</td>\n",
              "      <td>2024-08-29</td>\n",
              "      <td>NaN</td>\n",
              "      <td>20</td>\n",
              "      <td>112</td>\n",
              "      <td>85</td>\n",
              "    </tr>\n",
              "  </tbody>\n",
              "</table>\n",
              "</div>\n",
              "    <div class=\"colab-df-buttons\">\n",
              "\n",
              "  <div class=\"colab-df-container\">\n",
              "    <button class=\"colab-df-convert\" onclick=\"convertToInteractive('df-f6ba506b-f331-4d6b-8a25-7b29988ac26a')\"\n",
              "            title=\"Convert this dataframe to an interactive table.\"\n",
              "            style=\"display:none;\">\n",
              "\n",
              "  <svg xmlns=\"http://www.w3.org/2000/svg\" height=\"24px\" viewBox=\"0 -960 960 960\">\n",
              "    <path d=\"M120-120v-720h720v720H120Zm60-500h600v-160H180v160Zm220 220h160v-160H400v160Zm0 220h160v-160H400v160ZM180-400h160v-160H180v160Zm440 0h160v-160H620v160ZM180-180h160v-160H180v160Zm440 0h160v-160H620v160Z\"/>\n",
              "  </svg>\n",
              "    </button>\n",
              "\n",
              "  <style>\n",
              "    .colab-df-container {\n",
              "      display:flex;\n",
              "      gap: 12px;\n",
              "    }\n",
              "\n",
              "    .colab-df-convert {\n",
              "      background-color: #E8F0FE;\n",
              "      border: none;\n",
              "      border-radius: 50%;\n",
              "      cursor: pointer;\n",
              "      display: none;\n",
              "      fill: #1967D2;\n",
              "      height: 32px;\n",
              "      padding: 0 0 0 0;\n",
              "      width: 32px;\n",
              "    }\n",
              "\n",
              "    .colab-df-convert:hover {\n",
              "      background-color: #E2EBFA;\n",
              "      box-shadow: 0px 1px 2px rgba(60, 64, 67, 0.3), 0px 1px 3px 1px rgba(60, 64, 67, 0.15);\n",
              "      fill: #174EA6;\n",
              "    }\n",
              "\n",
              "    .colab-df-buttons div {\n",
              "      margin-bottom: 4px;\n",
              "    }\n",
              "\n",
              "    [theme=dark] .colab-df-convert {\n",
              "      background-color: #3B4455;\n",
              "      fill: #D2E3FC;\n",
              "    }\n",
              "\n",
              "    [theme=dark] .colab-df-convert:hover {\n",
              "      background-color: #434B5C;\n",
              "      box-shadow: 0px 1px 3px 1px rgba(0, 0, 0, 0.15);\n",
              "      filter: drop-shadow(0px 1px 2px rgba(0, 0, 0, 0.3));\n",
              "      fill: #FFFFFF;\n",
              "    }\n",
              "  </style>\n",
              "\n",
              "    <script>\n",
              "      const buttonEl =\n",
              "        document.querySelector('#df-f6ba506b-f331-4d6b-8a25-7b29988ac26a button.colab-df-convert');\n",
              "      buttonEl.style.display =\n",
              "        google.colab.kernel.accessAllowed ? 'block' : 'none';\n",
              "\n",
              "      async function convertToInteractive(key) {\n",
              "        const element = document.querySelector('#df-f6ba506b-f331-4d6b-8a25-7b29988ac26a');\n",
              "        const dataTable =\n",
              "          await google.colab.kernel.invokeFunction('convertToInteractive',\n",
              "                                                    [key], {});\n",
              "        if (!dataTable) return;\n",
              "\n",
              "        const docLinkHtml = 'Like what you see? Visit the ' +\n",
              "          '<a target=\"_blank\" href=https://colab.research.google.com/notebooks/data_table.ipynb>data table notebook</a>'\n",
              "          + ' to learn more about interactive tables.';\n",
              "        element.innerHTML = '';\n",
              "        dataTable['output_type'] = 'display_data';\n",
              "        await google.colab.output.renderOutput(dataTable, element);\n",
              "        const docLink = document.createElement('div');\n",
              "        docLink.innerHTML = docLinkHtml;\n",
              "        element.appendChild(docLink);\n",
              "      }\n",
              "    </script>\n",
              "  </div>\n",
              "\n",
              "\n",
              "<div id=\"df-6001d634-a0ea-448f-bab1-f99daca8f57c\">\n",
              "  <button class=\"colab-df-quickchart\" onclick=\"quickchart('df-6001d634-a0ea-448f-bab1-f99daca8f57c')\"\n",
              "            title=\"Suggest charts\"\n",
              "            style=\"display:none;\">\n",
              "\n",
              "<svg xmlns=\"http://www.w3.org/2000/svg\" height=\"24px\"viewBox=\"0 0 24 24\"\n",
              "     width=\"24px\">\n",
              "    <g>\n",
              "        <path d=\"M19 3H5c-1.1 0-2 .9-2 2v14c0 1.1.9 2 2 2h14c1.1 0 2-.9 2-2V5c0-1.1-.9-2-2-2zM9 17H7v-7h2v7zm4 0h-2V7h2v10zm4 0h-2v-4h2v4z\"/>\n",
              "    </g>\n",
              "</svg>\n",
              "  </button>\n",
              "\n",
              "<style>\n",
              "  .colab-df-quickchart {\n",
              "      --bg-color: #E8F0FE;\n",
              "      --fill-color: #1967D2;\n",
              "      --hover-bg-color: #E2EBFA;\n",
              "      --hover-fill-color: #174EA6;\n",
              "      --disabled-fill-color: #AAA;\n",
              "      --disabled-bg-color: #DDD;\n",
              "  }\n",
              "\n",
              "  [theme=dark] .colab-df-quickchart {\n",
              "      --bg-color: #3B4455;\n",
              "      --fill-color: #D2E3FC;\n",
              "      --hover-bg-color: #434B5C;\n",
              "      --hover-fill-color: #FFFFFF;\n",
              "      --disabled-bg-color: #3B4455;\n",
              "      --disabled-fill-color: #666;\n",
              "  }\n",
              "\n",
              "  .colab-df-quickchart {\n",
              "    background-color: var(--bg-color);\n",
              "    border: none;\n",
              "    border-radius: 50%;\n",
              "    cursor: pointer;\n",
              "    display: none;\n",
              "    fill: var(--fill-color);\n",
              "    height: 32px;\n",
              "    padding: 0;\n",
              "    width: 32px;\n",
              "  }\n",
              "\n",
              "  .colab-df-quickchart:hover {\n",
              "    background-color: var(--hover-bg-color);\n",
              "    box-shadow: 0 1px 2px rgba(60, 64, 67, 0.3), 0 1px 3px 1px rgba(60, 64, 67, 0.15);\n",
              "    fill: var(--button-hover-fill-color);\n",
              "  }\n",
              "\n",
              "  .colab-df-quickchart-complete:disabled,\n",
              "  .colab-df-quickchart-complete:disabled:hover {\n",
              "    background-color: var(--disabled-bg-color);\n",
              "    fill: var(--disabled-fill-color);\n",
              "    box-shadow: none;\n",
              "  }\n",
              "\n",
              "  .colab-df-spinner {\n",
              "    border: 2px solid var(--fill-color);\n",
              "    border-color: transparent;\n",
              "    border-bottom-color: var(--fill-color);\n",
              "    animation:\n",
              "      spin 1s steps(1) infinite;\n",
              "  }\n",
              "\n",
              "  @keyframes spin {\n",
              "    0% {\n",
              "      border-color: transparent;\n",
              "      border-bottom-color: var(--fill-color);\n",
              "      border-left-color: var(--fill-color);\n",
              "    }\n",
              "    20% {\n",
              "      border-color: transparent;\n",
              "      border-left-color: var(--fill-color);\n",
              "      border-top-color: var(--fill-color);\n",
              "    }\n",
              "    30% {\n",
              "      border-color: transparent;\n",
              "      border-left-color: var(--fill-color);\n",
              "      border-top-color: var(--fill-color);\n",
              "      border-right-color: var(--fill-color);\n",
              "    }\n",
              "    40% {\n",
              "      border-color: transparent;\n",
              "      border-right-color: var(--fill-color);\n",
              "      border-top-color: var(--fill-color);\n",
              "    }\n",
              "    60% {\n",
              "      border-color: transparent;\n",
              "      border-right-color: var(--fill-color);\n",
              "    }\n",
              "    80% {\n",
              "      border-color: transparent;\n",
              "      border-right-color: var(--fill-color);\n",
              "      border-bottom-color: var(--fill-color);\n",
              "    }\n",
              "    90% {\n",
              "      border-color: transparent;\n",
              "      border-bottom-color: var(--fill-color);\n",
              "    }\n",
              "  }\n",
              "</style>\n",
              "\n",
              "  <script>\n",
              "    async function quickchart(key) {\n",
              "      const quickchartButtonEl =\n",
              "        document.querySelector('#' + key + ' button');\n",
              "      quickchartButtonEl.disabled = true;  // To prevent multiple clicks.\n",
              "      quickchartButtonEl.classList.add('colab-df-spinner');\n",
              "      try {\n",
              "        const charts = await google.colab.kernel.invokeFunction(\n",
              "            'suggestCharts', [key], {});\n",
              "      } catch (error) {\n",
              "        console.error('Error during call to suggestCharts:', error);\n",
              "      }\n",
              "      quickchartButtonEl.classList.remove('colab-df-spinner');\n",
              "      quickchartButtonEl.classList.add('colab-df-quickchart-complete');\n",
              "    }\n",
              "    (() => {\n",
              "      let quickchartButtonEl =\n",
              "        document.querySelector('#df-6001d634-a0ea-448f-bab1-f99daca8f57c button');\n",
              "      quickchartButtonEl.style.display =\n",
              "        google.colab.kernel.accessAllowed ? 'block' : 'none';\n",
              "    })();\n",
              "  </script>\n",
              "</div>\n",
              "\n",
              "    </div>\n",
              "  </div>\n"
            ],
            "application/vnd.google.colaboratory.intrinsic+json": {
              "type": "dataframe",
              "variable_name": "df",
              "summary": "{\n  \"name\": \"df\",\n  \"rows\": 481,\n  \"fields\": [\n    {\n      \"column\": \"loja\",\n      \"properties\": {\n        \"dtype\": \"string\",\n        \"num_unique_values\": 481,\n        \"samples\": [\n          \"Loja - 74\",\n          \"Loja - 416\",\n          \"Loja - 393\"\n        ],\n        \"semantic_type\": \"\",\n        \"description\": \"\"\n      }\n    },\n    {\n      \"column\": \"tipo\",\n      \"properties\": {\n        \"dtype\": \"category\",\n        \"num_unique_values\": 28,\n        \"samples\": [\n          \"Frango\",\n          \"Entrenenimento\",\n          \"Carnes\"\n        ],\n        \"semantic_type\": \"\",\n        \"description\": \"\"\n      }\n    },\n    {\n      \"column\": \"Shopping\",\n      \"properties\": {\n        \"dtype\": \"category\",\n        \"num_unique_values\": 2,\n        \"samples\": [\n          \"Sim\",\n          \"N\\u00e3o\"\n        ],\n        \"semantic_type\": \"\",\n        \"description\": \"\"\n      }\n    },\n    {\n      \"column\": \"software\",\n      \"properties\": {\n        \"dtype\": \"category\",\n        \"num_unique_values\": 3,\n        \"samples\": [\n          \"ANOTA\",\n          \"VS\"\n        ],\n        \"semantic_type\": \"\",\n        \"description\": \"\"\n      }\n    },\n    {\n      \"column\": \"data_assinado\",\n      \"properties\": {\n        \"dtype\": \"date\",\n        \"min\": \"2024-07-09 00:00:00\",\n        \"max\": \"2025-01-25 00:00:00\",\n        \"num_unique_values\": 108,\n        \"samples\": [\n          \"2024-11-14 00:00:00\",\n          \"2024-07-30 00:00:00\"\n        ],\n        \"semantic_type\": \"\",\n        \"description\": \"\"\n      }\n    },\n    {\n      \"column\": \"data_entregue\",\n      \"properties\": {\n        \"dtype\": \"date\",\n        \"min\": \"2024-06-27 00:00:00\",\n        \"max\": \"2025-01-29 00:00:00\",\n        \"num_unique_values\": 131,\n        \"samples\": [\n          \"2024-10-09 00:00:00\",\n          \"2024-09-19 00:00:00\"\n        ],\n        \"semantic_type\": \"\",\n        \"description\": \"\"\n      }\n    },\n    {\n      \"column\": \"data_primeiro_pedido\",\n      \"properties\": {\n        \"dtype\": \"date\",\n        \"min\": \"2024-06-28 00:00:00\",\n        \"max\": \"2025-02-01 00:00:00\",\n        \"num_unique_values\": 123,\n        \"samples\": [\n          \"2024-10-10 00:00:00\",\n          \"2024-10-01 00:00:00\"\n        ],\n        \"semantic_type\": \"\",\n        \"description\": \"\"\n      }\n    },\n    {\n      \"column\": \"Irregular\",\n      \"properties\": {\n        \"dtype\": \"category\",\n        \"num_unique_values\": 2,\n        \"samples\": [\n          \"Assinar Contrato\",\n          \"Data Entregue Inv\\u00e1lida\"\n        ],\n        \"semantic_type\": \"\",\n        \"description\": \"\"\n      }\n    },\n    {\n      \"column\": \"pedidos_m0\",\n      \"properties\": {\n        \"dtype\": \"number\",\n        \"std\": 132,\n        \"min\": 1,\n        \"max\": 1832,\n        \"num_unique_values\": 140,\n        \"samples\": [\n          290,\n          171\n        ],\n        \"semantic_type\": \"\",\n        \"description\": \"\"\n      }\n    },\n    {\n      \"column\": \"pedidos_m1\",\n      \"properties\": {\n        \"dtype\": \"number\",\n        \"std\": 205,\n        \"min\": 0,\n        \"max\": 2838,\n        \"num_unique_values\": 162,\n        \"samples\": [\n          149,\n          820\n        ],\n        \"semantic_type\": \"\",\n        \"description\": \"\"\n      }\n    },\n    {\n      \"column\": \"pedidos_m2\",\n      \"properties\": {\n        \"dtype\": \"number\",\n        \"std\": 185,\n        \"min\": 0,\n        \"max\": 2659,\n        \"num_unique_values\": 119,\n        \"samples\": [\n          557,\n          150\n        ],\n        \"semantic_type\": \"\",\n        \"description\": \"\"\n      }\n    }\n  ]\n}"
            }
          },
          "metadata": {},
          "execution_count": 11
        }
      ]
    },
    {
      "cell_type": "code",
      "source": [
        "import pandas as pd\n",
        "import matplotlib.pyplot as plt\n",
        "\n",
        "file_path = '/content/mack_projeto1/dataset/arquivos/RAW.csv'\n",
        "try:\n",
        "  df = pd.read_csv(file_path)\n",
        "  print(\"Dataset created successfully!\")\n",
        "except FileNotFoundError:\n",
        "  print(f\"Error: File not found at {file_path}\")\n",
        "except Exception as e:\n",
        "  print(f\"An error occurred: {e}\")"
      ],
      "metadata": {
        "colab": {
          "base_uri": "https://localhost:8080/"
        },
        "id": "TE3JUXXcugJF",
        "outputId": "ed5e7aee-0cd5-4c80-cd22-55925ec5e017"
      },
      "execution_count": 29,
      "outputs": [
        {
          "output_type": "stream",
          "name": "stdout",
          "text": [
            "Dataset created successfully!\n"
          ]
        }
      ]
    },
    {
      "cell_type": "code",
      "source": [
        "#Convertendo as datas para padronizar o formato (limpeza e padronização)\n",
        "df['data_primeiro_pedido'] = pd.to_datetime(df['data_primeiro_pedido'], format='%d/%m/%Y')\n",
        "df['data_entregue'] = pd.to_datetime(df['data_entregue'], format='%d/%m/%Y')\n",
        "df['data_assinado'] = pd.to_datetime(df['data_assinado'], format='%d/%m/%Y')"
      ],
      "metadata": {
        "id": "6EK5CTuA4scL"
      },
      "execution_count": 30,
      "outputs": []
    },
    {
      "cell_type": "code",
      "source": [
        "janeiro_df = df[(df['data_primeiro_pedido'].dt.year == 2025)&(df['data_primeiro_pedido'].dt.month.isin([ 1, 2]))]\n",
        "print(janeiro_df.shape[0], \"restaurantes ativados em janeiro ou fevereiro de 2025\") #quantos restaurantes fizeram o primeiro pedido em janeiro\n",
        "m2validos_df = df[(df['data_primeiro_pedido'].dt.year == 2024)&(df['data_primeiro_pedido'].dt.month.isin([ 5, 6, 7, 8, 9, 10, 11, 12]))]\n",
        "print(m2validos_df.shape[0], \"restaurantes ativados até dezembro de 2024\")\n",
        "print(df.shape[0], \"restaurantes no total\")"
      ],
      "metadata": {
        "colab": {
          "base_uri": "https://localhost:8080/"
        },
        "id": "IIVU0Q365iru",
        "outputId": "63853717-3d60-4101-eb30-7fb4112c4409"
      },
      "execution_count": 31,
      "outputs": [
        {
          "output_type": "stream",
          "name": "stdout",
          "text": [
            "228 restaurantes ativados em janeiro ou fevereiro de 2025\n",
            "253 restaurantes ativados até dezembro de 2024\n",
            "481 restaurantes no total\n"
          ]
        }
      ]
    },
    {
      "cell_type": "code",
      "source": [
        "M2_e_M1_menor_10 = m2validos_df[(m2validos_df['pedidos_m1'] < 10) & (m2validos_df['pedidos_m2'] < 10)]\n",
        "print(M2_e_M1_menor_10.shape[0], \"restaurantes com pedidos em M1 e M2 menores que 10\")"
      ],
      "metadata": {
        "colab": {
          "base_uri": "https://localhost:8080/"
        },
        "id": "8tI6SNn9-Hnl",
        "outputId": "93b6c1b8-fec4-443e-d3a5-f1583f5f677f"
      },
      "execution_count": 32,
      "outputs": [
        {
          "output_type": "stream",
          "name": "stdout",
          "text": [
            "63 restaurantes com pedidos em M1 e M2 menores que 10\n"
          ]
        }
      ]
    },
    {
      "cell_type": "code",
      "source": [
        "m2validos_e_ativos = m2validos_df[~m2validos_df.index.isin(M2_e_M1_menor_10.index)] #aqui pegando o DF de restaurantes que fizeram o pedido anterior a janeiro e que tem\n",
        "M2_em_alta = m2validos_e_ativos[m2validos_e_ativos['pedidos_m2'] >= m2validos_e_ativos['pedidos_m1']] #criar os M2 em alta descartando os inativos ou ativados recentemente\n",
        "print(M2_em_alta.shape[0], \"restaurantes com M2 maior ou igual a M1 (excluindo os de baixa operação e recentemente implantados)\")\n",
        "M2_em_queda = m2validos_e_ativos[    m2validos_e_ativos['pedidos_m2'] < m2validos_e_ativos['pedidos_m1']] #criar os M2 em alta descartando os inativos ou ativados recentemente\n",
        "print(M2_em_queda.shape[0], \"restaurantes com M2 menor que M1 (excluindo os de baixa operação e recentemente implantados)\")"
      ],
      "metadata": {
        "colab": {
          "base_uri": "https://localhost:8080/"
        },
        "id": "zBjYVbHMHPdu",
        "outputId": "1cf1566d-dfc1-47c4-8526-6098c037606d"
      },
      "execution_count": 34,
      "outputs": [
        {
          "output_type": "stream",
          "name": "stdout",
          "text": [
            "76 restaurantes com M2 maior ou igual a M1 (excluindo os de baixa operação e recentemente implantados)\n",
            "114 restaurantes com M2 menor que M1 (excluindo os de baixa operação e recentemente implantados)\n"
          ]
        }
      ]
    },
    {
      "cell_type": "code",
      "source": [
        "import matplotlib.pyplot as plt\n",
        "\n",
        "# 1. Calcular o total de pedidos para M1 e M2 no m2validos_df\n",
        "total_m1 = m2validos_df['pedidos_m1'].sum()\n",
        "total_m2 = m2validos_df['pedidos_m2'].sum()\n",
        "\n",
        "# 2. Criar o gráfico de barras\n",
        "plt.figure(figsize=(8, 6))\n",
        "\n",
        "# Dados para o gráfico\n",
        "meses = ['M1', 'M2']\n",
        "totais = [total_m1, total_m2]\n",
        "\n",
        "plt.bar(meses, totais, width=0.8)\n",
        "\n",
        "# 3. Customizações do gráfico\n",
        "plt.title('Total de Pedidos em M1 e M2 (restaurantes ativados até dez/24)')\n",
        "plt.xlabel('Mês')\n",
        "plt.ylabel('Total de Pedidos')\n",
        "plt.ylim(0, max(totais)*1.1)\n",
        "\n",
        "# 4. Exibir o gráfico\n",
        "plt.show()"
      ],
      "metadata": {
        "colab": {
          "base_uri": "https://localhost:8080/",
          "height": 564
        },
        "id": "wZs3tkTZJDn_",
        "outputId": "a08f5002-31eb-4225-b191-ad4170942119"
      },
      "execution_count": 38,
      "outputs": [
        {
          "output_type": "display_data",
          "data": {
            "text/plain": [
              "<Figure size 800x600 with 1 Axes>"
            ],
            "image/png": "[encoded data removed]"
          },
          "metadata": {}
        }
      ]
    },
    {
      "cell_type": "code",
      "source": [
        "m2validos_df['Tempo de Ativação'] = (m2validos_df['data_primeiro_pedido'] - m2validos_df['data_assinado']).dt.days #criando o indicador te tempo de ativação\n",
        "print(m2validos_df[['loja', 'data_assinado', 'data_primeiro_pedido', 'Tempo de Ativação']].head(10))"
      ],
      "metadata": {
        "colab": {
          "base_uri": "https://localhost:8080/"
        },
        "id": "_1YzaB-oK_dT",
        "outputId": "7f8812c0-eb15-4add-db7d-ed61943c65d9"
      },
      "execution_count": 39,
      "outputs": [
        {
          "output_type": "stream",
          "name": "stdout",
          "text": [
            "        loja data_assinado data_primeiro_pedido  Tempo de Ativação\n",
            "0  Loja - 01    2024-07-09           2024-10-03                 86\n",
            "1  Loja - 02    2024-07-09           2024-08-14                 36\n",
            "2  Loja - 03    2024-07-09           2024-08-28                 50\n",
            "3  Loja - 04    2024-07-10           2024-09-20                 72\n",
            "4  Loja - 05    2024-07-12           2024-08-29                 48\n",
            "5  Loja - 06    2024-07-12           2024-09-06                 56\n",
            "6  Loja - 07    2024-07-12           2024-07-29                 17\n",
            "7  Loja - 08    2024-07-12           2024-08-09                 28\n",
            "8  Loja - 09    2024-07-12           2024-07-25                 13\n",
            "9  Loja - 10    2024-07-17           2024-08-28                 42\n"
          ]
        },
        {
          "output_type": "stream",
          "name": "stderr",
          "text": [
            "<ipython-input-39-fda303b6679d>:1: SettingWithCopyWarning: \n",
            "A value is trying to be set on a copy of a slice from a DataFrame.\n",
            "Try using .loc[row_indexer,col_indexer] = value instead\n",
            "\n",
            "See the caveats in the documentation: https://pandas.pydata.org/pandas-docs/stable/user_guide/indexing.html#returning-a-view-versus-a-copy\n",
            "  m2validos_df['Tempo de Ativação'] = (m2validos_df['data_primeiro_pedido'] - m2validos_df['data_assinado']).dt.days\n"
          ]
        }
      ]
    },
    {
      "cell_type": "code",
      "source": [
        "m2validos_df['Media Pedidos M1 e M2'] = (m2validos_df['pedidos_m1'] + m2validos_df['pedidos_m2']) / 2\n",
        "print(m2validos_df[['loja', 'pedidos_m1', 'pedidos_m2', 'Media Pedidos M1 e M2']].head(10))"
      ],
      "metadata": {
        "colab": {
          "base_uri": "https://localhost:8080/"
        },
        "id": "6LEgfbR4LGJ9",
        "outputId": "da024ba5-af31-47eb-9305-1cfd3cdc147a"
      },
      "execution_count": 40,
      "outputs": [
        {
          "output_type": "stream",
          "name": "stdout",
          "text": [
            "        loja  pedidos_m1  pedidos_m2  Media Pedidos M1 e M2\n",
            "0  Loja - 01           0           0                    0.0\n",
            "1  Loja - 02         251         187                  219.0\n",
            "2  Loja - 03          71         113                   92.0\n",
            "3  Loja - 04          18          19                   18.5\n",
            "4  Loja - 05         112          85                   98.5\n",
            "5  Loja - 06          21          51                   36.0\n",
            "6  Loja - 07          24           3                   13.5\n",
            "7  Loja - 08           0           2                    1.0\n",
            "8  Loja - 09          34          36                   35.0\n",
            "9  Loja - 10          24           0                   12.0\n"
          ]
        },
        {
          "output_type": "stream",
          "name": "stderr",
          "text": [
            "<ipython-input-40-c43d88530b16>:1: SettingWithCopyWarning: \n",
            "A value is trying to be set on a copy of a slice from a DataFrame.\n",
            "Try using .loc[row_indexer,col_indexer] = value instead\n",
            "\n",
            "See the caveats in the documentation: https://pandas.pydata.org/pandas-docs/stable/user_guide/indexing.html#returning-a-view-versus-a-copy\n",
            "  m2validos_df['Media Pedidos M1 e M2'] = (m2validos_df['pedidos_m1'] + m2validos_df['pedidos_m2']) / 2\n"
          ]
        }
      ]
    },
    {
      "cell_type": "code",
      "source": [
        "plt.figure(figsize=(10, 6))\n",
        "\n",
        "plt.scatter(\n",
        "    m2validos_df['Tempo de Ativação'],\n",
        "    m2validos_df['Media Pedidos M1 e M2']\n",
        ")\n",
        "\n",
        "\n",
        "plt.title('Relação entre Tempo de Ativação e Média de Pedidos M1/M2')\n",
        "plt.xlabel('Tempo de Ativação (dias)')\n",
        "plt.ylabel('Média de Pedidos M1 e M2')\n",
        "\n",
        "plt.xlim(0)         # tirando outliers para melhor visualização\n",
        "plt.ylim(0, 900)    # tirando outliers para melhor visualização\n",
        "\n",
        "plt.grid(True)\n",
        "\n",
        "plt.show()"
      ],
      "metadata": {
        "colab": {
          "base_uri": "https://localhost:8080/",
          "height": 565
        },
        "id": "jFP0MfQALubM",
        "outputId": "1640dc1d-17a7-4a2f-a56f-22d7c76dc364"
      },
      "execution_count": 42,
      "outputs": [
        {
          "output_type": "display_data",
          "data": {
            "text/plain": [
              "<Figure size 1000x600 with 1 Axes>"
            ],
            "image/png": "[encoded data removed]"
          },
          "metadata": {}
        }
      ]
    }
  ]
}