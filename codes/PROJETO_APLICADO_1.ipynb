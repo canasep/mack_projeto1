{
  "nbformat": 4,
  "nbformat_minor": 0,
  "metadata": {
    "colab": {
      "provenance": [],
      "include_colab_link": true
    },
    "kernelspec": {
      "name": "python3",
      "display_name": "Python 3"
    },
    "language_info": {
      "name": "python"
    }
  },
  "cells": [
    {
      "cell_type": "markdown",
      "metadata": {
        "id": "view-in-github",
        "colab_type": "text"
      },
      "source": [
        "<a href=\"https://colab.research.google.com/github/canasep/mack_projeto1/blob/main/codes/PROJETO_APLICADO_1.ipynb\" target=\"_parent\"><img src=\"https://colab.research.google.com/assets/colab-badge.svg\" alt=\"Open In Colab\"/></a>"
      ]
    },
    {
      "cell_type": "markdown",
      "source": [
        "link collab to github"
      ],
      "metadata": {
        "id": "_IrOIKB6uY1Y"
      }
    },
    {
      "cell_type": "code",
      "execution_count": 1,
      "metadata": {
        "colab": {
          "base_uri": "https://localhost:8080/"
        },
        "id": "i5L1_nFrt2nJ",
        "outputId": "d0a2ca6e-0efb-436c-ec9d-014887552d43"
      },
      "outputs": [
        {
          "output_type": "stream",
          "name": "stdout",
          "text": [
            "Cloning into 'mack_projeto1'...\n",
            "remote: Enumerating objects: 228, done.\u001b[K\n",
            "remote: Counting objects: 100% (81/81), done.\u001b[K\n",
            "remote: Compressing objects: 100% (79/79), done.\u001b[K\n",
            "remote: Total 228 (delta 42), reused 2 (delta 2), pack-reused 147 (from 1)\u001b[K\n",
            "Receiving objects: 100% (228/228), 1.91 MiB | 6.67 MiB/s, done.\n",
            "Resolving deltas: 100% (94/94), done.\n"
          ]
        }
      ],
      "source": [
        "\n",
        "!git clone https://github.com/canasep/mack_projeto1.git\n"
      ]
    },
    {
      "cell_type": "markdown",
      "source": [
        "create dataset with csv"
      ],
      "metadata": {
        "id": "3Kvct3eduXl_"
      }
    },
    {
      "cell_type": "code",
      "source": [
        "import pandas as pd\n",
        "\n",
        "file_path = '/content/mack_projeto1/dataset/arquivos/RAW.csv'\n",
        "\n",
        "try:\n",
        "  df = pd.read_csv(file_path)\n",
        "  print(\"Dataset created successfully!\")\n",
        "except FileNotFoundError:\n",
        "  print(f\"Error: File not found at {file_path}\")\n",
        "except Exception as e:\n",
        "  print(f\"An error occurred: {e}\")\n",
        "\n",
        "\n"
      ],
      "metadata": {
        "colab": {
          "base_uri": "https://localhost:8080/"
        },
        "id": "TE3JUXXcugJF",
        "outputId": "fdece153-8de5-47ca-e7a2-d6eca6318940"
      },
      "execution_count": 2,
      "outputs": [
        {
          "output_type": "stream",
          "name": "stdout",
          "text": [
            "Dataset created successfully!\n"
          ]
        }
      ]
    },
    {
      "cell_type": "markdown",
      "source": [
        "show dataset"
      ],
      "metadata": {
        "id": "ItrLNIStuswL"
      }
    },
    {
      "cell_type": "code",
      "source": [
        "df.head()\n"
      ],
      "metadata": {
        "colab": {
          "base_uri": "https://localhost:8080/",
          "height": 313
        },
        "id": "DHkYNvPxuuPL",
        "outputId": "b9685681-93b0-49e0-d4aa-77b706b35b11"
      },
      "execution_count": 3,
      "outputs": [
        {
          "output_type": "execute_result",
          "data": {
            "text/plain": [
              "        loja                    tipo Shopping software data_assinado  \\\n",
              "0  Loja - 01                 Lanches      Não    ANOTA    09/07/2024   \n",
              "1  Loja - 02  Hamburgueria / Hot Dog      Não    ANOTA    09/07/2024   \n",
              "2  Loja - 03  Hamburgueria / Hot Dog      Não    ANOTA    09/07/2024   \n",
              "3  Loja - 04  Hamburgueria / Hot Dog      Não    ANOTA    10/07/2024   \n",
              "4  Loja - 05  Hamburgueria / Hot Dog      Não    ANOTA    12/07/2024   \n",
              "\n",
              "  data_entregue data_primeiro_pedido Irregular  pedidos_m0  pedidos_m1  \\\n",
              "0    19/08/2024           03/10/2024       NaN           2           0   \n",
              "1    18/07/2024           14/08/2024       NaN         101         251   \n",
              "2    18/07/2024           28/08/2024       NaN          16          71   \n",
              "3    23/08/2024           20/09/2024       NaN          10          18   \n",
              "4    27/07/2024           29/08/2024       NaN          20         112   \n",
              "\n",
              "   pedidos_m2  \n",
              "0           0  \n",
              "1         187  \n",
              "2         113  \n",
              "3          19  \n",
              "4          85  "
            ],
            "text/html": [
              "\n",
              "  <div id=\"df-a41c2395-ba00-468d-870a-569f596d77a0\" class=\"colab-df-container\">\n",
              "    <div>\n",
              "<style scoped>\n",
              "    .dataframe tbody tr th:only-of-type {\n",
              "        vertical-align: middle;\n",
              "    }\n",
              "\n",
              "    .dataframe tbody tr th {\n",
              "        vertical-align: top;\n",
              "    }\n",
              "\n",
              "    .dataframe thead th {\n",
              "        text-align: right;\n",
              "    }\n",
              "</style>\n",
              "<table border=\"1\" class=\"dataframe\">\n",
              "  <thead>\n",
              "    <tr style=\"text-align: right;\">\n",
              "      <th></th>\n",
              "      <th>loja</th>\n",
              "      <th>tipo</th>\n",
              "      <th>Shopping</th>\n",
              "      <th>software</th>\n",
              "      <th>data_assinado</th>\n",
              "      <th>data_entregue</th>\n",
              "      <th>data_primeiro_pedido</th>\n",
              "      <th>Irregular</th>\n",
              "      <th>pedidos_m0</th>\n",
              "      <th>pedidos_m1</th>\n",
              "      <th>pedidos_m2</th>\n",
              "    </tr>\n",
              "  </thead>\n",
              "  <tbody>\n",
              "    <tr>\n",
              "      <th>0</th>\n",
              "      <td>Loja - 01</td>\n",
              "      <td>Lanches</td>\n",
              "      <td>Não</td>\n",
              "      <td>ANOTA</td>\n",
              "      <td>09/07/2024</td>\n",
              "      <td>19/08/2024</td>\n",
              "      <td>03/10/2024</td>\n",
              "      <td>NaN</td>\n",
              "      <td>2</td>\n",
              "      <td>0</td>\n",
              "      <td>0</td>\n",
              "    </tr>\n",
              "    <tr>\n",
              "      <th>1</th>\n",
              "      <td>Loja - 02</td>\n",
              "      <td>Hamburgueria / Hot Dog</td>\n",
              "      <td>Não</td>\n",
              "      <td>ANOTA</td>\n",
              "      <td>09/07/2024</td>\n",
              "      <td>18/07/2024</td>\n",
              "      <td>14/08/2024</td>\n",
              "      <td>NaN</td>\n",
              "      <td>101</td>\n",
              "      <td>251</td>\n",
              "      <td>187</td>\n",
              "    </tr>\n",
              "    <tr>\n",
              "      <th>2</th>\n",
              "      <td>Loja - 03</td>\n",
              "      <td>Hamburgueria / Hot Dog</td>\n",
              "      <td>Não</td>\n",
              "      <td>ANOTA</td>\n",
              "      <td>09/07/2024</td>\n",
              "      <td>18/07/2024</td>\n",
              "      <td>28/08/2024</td>\n",
              "      <td>NaN</td>\n",
              "      <td>16</td>\n",
              "      <td>71</td>\n",
              "      <td>113</td>\n",
              "    </tr>\n",
              "    <tr>\n",
              "      <th>3</th>\n",
              "      <td>Loja - 04</td>\n",
              "      <td>Hamburgueria / Hot Dog</td>\n",
              "      <td>Não</td>\n",
              "      <td>ANOTA</td>\n",
              "      <td>10/07/2024</td>\n",
              "      <td>23/08/2024</td>\n",
              "      <td>20/09/2024</td>\n",
              "      <td>NaN</td>\n",
              "      <td>10</td>\n",
              "      <td>18</td>\n",
              "      <td>19</td>\n",
              "    </tr>\n",
              "    <tr>\n",
              "      <th>4</th>\n",
              "      <td>Loja - 05</td>\n",
              "      <td>Hamburgueria / Hot Dog</td>\n",
              "      <td>Não</td>\n",
              "      <td>ANOTA</td>\n",
              "      <td>12/07/2024</td>\n",
              "      <td>27/07/2024</td>\n",
              "      <td>29/08/2024</td>\n",
              "      <td>NaN</td>\n",
              "      <td>20</td>\n",
              "      <td>112</td>\n",
              "      <td>85</td>\n",
              "    </tr>\n",
              "  </tbody>\n",
              "</table>\n",
              "</div>\n",
              "    <div class=\"colab-df-buttons\">\n",
              "\n",
              "  <div class=\"colab-df-container\">\n",
              "    <button class=\"colab-df-convert\" onclick=\"convertToInteractive('df-a41c2395-ba00-468d-870a-569f596d77a0')\"\n",
              "            title=\"Convert this dataframe to an interactive table.\"\n",
              "            style=\"display:none;\">\n",
              "\n",
              "  <svg xmlns=\"http://www.w3.org/2000/svg\" height=\"24px\" viewBox=\"0 -960 960 960\">\n",
              "    <path d=\"M120-120v-720h720v720H120Zm60-500h600v-160H180v160Zm220 220h160v-160H400v160Zm0 220h160v-160H400v160ZM180-400h160v-160H180v160Zm440 0h160v-160H620v160ZM180-180h160v-160H180v160Zm440 0h160v-160H620v160Z\"/>\n",
              "  </svg>\n",
              "    </button>\n",
              "\n",
              "  <style>\n",
              "    .colab-df-container {\n",
              "      display:flex;\n",
              "      gap: 12px;\n",
              "    }\n",
              "\n",
              "    .colab-df-convert {\n",
              "      background-color: #E8F0FE;\n",
              "      border: none;\n",
              "      border-radius: 50%;\n",
              "      cursor: pointer;\n",
              "      display: none;\n",
              "      fill: #1967D2;\n",
              "      height: 32px;\n",
              "      padding: 0 0 0 0;\n",
              "      width: 32px;\n",
              "    }\n",
              "\n",
              "    .colab-df-convert:hover {\n",
              "      background-color: #E2EBFA;\n",
              "      box-shadow: 0px 1px 2px rgba(60, 64, 67, 0.3), 0px 1px 3px 1px rgba(60, 64, 67, 0.15);\n",
              "      fill: #174EA6;\n",
              "    }\n",
              "\n",
              "    .colab-df-buttons div {\n",
              "      margin-bottom: 4px;\n",
              "    }\n",
              "\n",
              "    [theme=dark] .colab-df-convert {\n",
              "      background-color: #3B4455;\n",
              "      fill: #D2E3FC;\n",
              "    }\n",
              "\n",
              "    [theme=dark] .colab-df-convert:hover {\n",
              "      background-color: #434B5C;\n",
              "      box-shadow: 0px 1px 3px 1px rgba(0, 0, 0, 0.15);\n",
              "      filter: drop-shadow(0px 1px 2px rgba(0, 0, 0, 0.3));\n",
              "      fill: #FFFFFF;\n",
              "    }\n",
              "  </style>\n",
              "\n",
              "    <script>\n",
              "      const buttonEl =\n",
              "        document.querySelector('#df-a41c2395-ba00-468d-870a-569f596d77a0 button.colab-df-convert');\n",
              "      buttonEl.style.display =\n",
              "        google.colab.kernel.accessAllowed ? 'block' : 'none';\n",
              "\n",
              "      async function convertToInteractive(key) {\n",
              "        const element = document.querySelector('#df-a41c2395-ba00-468d-870a-569f596d77a0');\n",
              "        const dataTable =\n",
              "          await google.colab.kernel.invokeFunction('convertToInteractive',\n",
              "                                                    [key], {});\n",
              "        if (!dataTable) return;\n",
              "\n",
              "        const docLinkHtml = 'Like what you see? Visit the ' +\n",
              "          '<a target=\"_blank\" href=https://colab.research.google.com/notebooks/data_table.ipynb>data table notebook</a>'\n",
              "          + ' to learn more about interactive tables.';\n",
              "        element.innerHTML = '';\n",
              "        dataTable['output_type'] = 'display_data';\n",
              "        await google.colab.output.renderOutput(dataTable, element);\n",
              "        const docLink = document.createElement('div');\n",
              "        docLink.innerHTML = docLinkHtml;\n",
              "        element.appendChild(docLink);\n",
              "      }\n",
              "    </script>\n",
              "  </div>\n",
              "\n",
              "\n",
              "<div id=\"df-e0833ebe-6500-4803-9cc0-833341acd669\">\n",
              "  <button class=\"colab-df-quickchart\" onclick=\"quickchart('df-e0833ebe-6500-4803-9cc0-833341acd669')\"\n",
              "            title=\"Suggest charts\"\n",
              "            style=\"display:none;\">\n",
              "\n",
              "<svg xmlns=\"http://www.w3.org/2000/svg\" height=\"24px\"viewBox=\"0 0 24 24\"\n",
              "     width=\"24px\">\n",
              "    <g>\n",
              "        <path d=\"M19 3H5c-1.1 0-2 .9-2 2v14c0 1.1.9 2 2 2h14c1.1 0 2-.9 2-2V5c0-1.1-.9-2-2-2zM9 17H7v-7h2v7zm4 0h-2V7h2v10zm4 0h-2v-4h2v4z\"/>\n",
              "    </g>\n",
              "</svg>\n",
              "  </button>\n",
              "\n",
              "<style>\n",
              "  .colab-df-quickchart {\n",
              "      --bg-color: #E8F0FE;\n",
              "      --fill-color: #1967D2;\n",
              "      --hover-bg-color: #E2EBFA;\n",
              "      --hover-fill-color: #174EA6;\n",
              "      --disabled-fill-color: #AAA;\n",
              "      --disabled-bg-color: #DDD;\n",
              "  }\n",
              "\n",
              "  [theme=dark] .colab-df-quickchart {\n",
              "      --bg-color: #3B4455;\n",
              "      --fill-color: #D2E3FC;\n",
              "      --hover-bg-color: #434B5C;\n",
              "      --hover-fill-color: #FFFFFF;\n",
              "      --disabled-bg-color: #3B4455;\n",
              "      --disabled-fill-color: #666;\n",
              "  }\n",
              "\n",
              "  .colab-df-quickchart {\n",
              "    background-color: var(--bg-color);\n",
              "    border: none;\n",
              "    border-radius: 50%;\n",
              "    cursor: pointer;\n",
              "    display: none;\n",
              "    fill: var(--fill-color);\n",
              "    height: 32px;\n",
              "    padding: 0;\n",
              "    width: 32px;\n",
              "  }\n",
              "\n",
              "  .colab-df-quickchart:hover {\n",
              "    background-color: var(--hover-bg-color);\n",
              "    box-shadow: 0 1px 2px rgba(60, 64, 67, 0.3), 0 1px 3px 1px rgba(60, 64, 67, 0.15);\n",
              "    fill: var(--button-hover-fill-color);\n",
              "  }\n",
              "\n",
              "  .colab-df-quickchart-complete:disabled,\n",
              "  .colab-df-quickchart-complete:disabled:hover {\n",
              "    background-color: var(--disabled-bg-color);\n",
              "    fill: var(--disabled-fill-color);\n",
              "    box-shadow: none;\n",
              "  }\n",
              "\n",
              "  .colab-df-spinner {\n",
              "    border: 2px solid var(--fill-color);\n",
              "    border-color: transparent;\n",
              "    border-bottom-color: var(--fill-color);\n",
              "    animation:\n",
              "      spin 1s steps(1) infinite;\n",
              "  }\n",
              "\n",
              "  @keyframes spin {\n",
              "    0% {\n",
              "      border-color: transparent;\n",
              "      border-bottom-color: var(--fill-color);\n",
              "      border-left-color: var(--fill-color);\n",
              "    }\n",
              "    20% {\n",
              "      border-color: transparent;\n",
              "      border-left-color: var(--fill-color);\n",
              "      border-top-color: var(--fill-color);\n",
              "    }\n",
              "    30% {\n",
              "      border-color: transparent;\n",
              "      border-left-color: var(--fill-color);\n",
              "      border-top-color: var(--fill-color);\n",
              "      border-right-color: var(--fill-color);\n",
              "    }\n",
              "    40% {\n",
              "      border-color: transparent;\n",
              "      border-right-color: var(--fill-color);\n",
              "      border-top-color: var(--fill-color);\n",
              "    }\n",
              "    60% {\n",
              "      border-color: transparent;\n",
              "      border-right-color: var(--fill-color);\n",
              "    }\n",
              "    80% {\n",
              "      border-color: transparent;\n",
              "      border-right-color: var(--fill-color);\n",
              "      border-bottom-color: var(--fill-color);\n",
              "    }\n",
              "    90% {\n",
              "      border-color: transparent;\n",
              "      border-bottom-color: var(--fill-color);\n",
              "    }\n",
              "  }\n",
              "</style>\n",
              "\n",
              "  <script>\n",
              "    async function quickchart(key) {\n",
              "      const quickchartButtonEl =\n",
              "        document.querySelector('#' + key + ' button');\n",
              "      quickchartButtonEl.disabled = true;  // To prevent multiple clicks.\n",
              "      quickchartButtonEl.classList.add('colab-df-spinner');\n",
              "      try {\n",
              "        const charts = await google.colab.kernel.invokeFunction(\n",
              "            'suggestCharts', [key], {});\n",
              "      } catch (error) {\n",
              "        console.error('Error during call to suggestCharts:', error);\n",
              "      }\n",
              "      quickchartButtonEl.classList.remove('colab-df-spinner');\n",
              "      quickchartButtonEl.classList.add('colab-df-quickchart-complete');\n",
              "    }\n",
              "    (() => {\n",
              "      let quickchartButtonEl =\n",
              "        document.querySelector('#df-e0833ebe-6500-4803-9cc0-833341acd669 button');\n",
              "      quickchartButtonEl.style.display =\n",
              "        google.colab.kernel.accessAllowed ? 'block' : 'none';\n",
              "    })();\n",
              "  </script>\n",
              "</div>\n",
              "\n",
              "    </div>\n",
              "  </div>\n"
            ],
            "application/vnd.google.colaboratory.intrinsic+json": {
              "type": "dataframe",
              "variable_name": "df",
              "summary": "{\n  \"name\": \"df\",\n  \"rows\": 481,\n  \"fields\": [\n    {\n      \"column\": \"loja\",\n      \"properties\": {\n        \"dtype\": \"string\",\n        \"num_unique_values\": 481,\n        \"samples\": [\n          \"Loja - 74\",\n          \"Loja - 416\",\n          \"Loja - 393\"\n        ],\n        \"semantic_type\": \"\",\n        \"description\": \"\"\n      }\n    },\n    {\n      \"column\": \"tipo\",\n      \"properties\": {\n        \"dtype\": \"category\",\n        \"num_unique_values\": 28,\n        \"samples\": [\n          \"Frango\",\n          \"Entrenenimento\",\n          \"Carnes\"\n        ],\n        \"semantic_type\": \"\",\n        \"description\": \"\"\n      }\n    },\n    {\n      \"column\": \"Shopping\",\n      \"properties\": {\n        \"dtype\": \"category\",\n        \"num_unique_values\": 2,\n        \"samples\": [\n          \"Sim\",\n          \"N\\u00e3o\"\n        ],\n        \"semantic_type\": \"\",\n        \"description\": \"\"\n      }\n    },\n    {\n      \"column\": \"software\",\n      \"properties\": {\n        \"dtype\": \"category\",\n        \"num_unique_values\": 3,\n        \"samples\": [\n          \"ANOTA\",\n          \"VS\"\n        ],\n        \"semantic_type\": \"\",\n        \"description\": \"\"\n      }\n    },\n    {\n      \"column\": \"data_assinado\",\n      \"properties\": {\n        \"dtype\": \"category\",\n        \"num_unique_values\": 108,\n        \"samples\": [\n          \"14/11/2024\",\n          \"30/07/2024\"\n        ],\n        \"semantic_type\": \"\",\n        \"description\": \"\"\n      }\n    },\n    {\n      \"column\": \"data_entregue\",\n      \"properties\": {\n        \"dtype\": \"object\",\n        \"num_unique_values\": 131,\n        \"samples\": [\n          \"09/10/2024\",\n          \"19/09/2024\"\n        ],\n        \"semantic_type\": \"\",\n        \"description\": \"\"\n      }\n    },\n    {\n      \"column\": \"data_primeiro_pedido\",\n      \"properties\": {\n        \"dtype\": \"category\",\n        \"num_unique_values\": 123,\n        \"samples\": [\n          \"10/10/2024\",\n          \"01/10/2024\"\n        ],\n        \"semantic_type\": \"\",\n        \"description\": \"\"\n      }\n    },\n    {\n      \"column\": \"Irregular\",\n      \"properties\": {\n        \"dtype\": \"category\",\n        \"num_unique_values\": 2,\n        \"samples\": [\n          \"Assinar Contrato\",\n          \"Data Entregue Inv\\u00e1lida\"\n        ],\n        \"semantic_type\": \"\",\n        \"description\": \"\"\n      }\n    },\n    {\n      \"column\": \"pedidos_m0\",\n      \"properties\": {\n        \"dtype\": \"number\",\n        \"std\": 132,\n        \"min\": 1,\n        \"max\": 1832,\n        \"num_unique_values\": 140,\n        \"samples\": [\n          290,\n          171\n        ],\n        \"semantic_type\": \"\",\n        \"description\": \"\"\n      }\n    },\n    {\n      \"column\": \"pedidos_m1\",\n      \"properties\": {\n        \"dtype\": \"number\",\n        \"std\": 205,\n        \"min\": 0,\n        \"max\": 2838,\n        \"num_unique_values\": 162,\n        \"samples\": [\n          149,\n          820\n        ],\n        \"semantic_type\": \"\",\n        \"description\": \"\"\n      }\n    },\n    {\n      \"column\": \"pedidos_m2\",\n      \"properties\": {\n        \"dtype\": \"number\",\n        \"std\": 185,\n        \"min\": 0,\n        \"max\": 2659,\n        \"num_unique_values\": 119,\n        \"samples\": [\n          557,\n          150\n        ],\n        \"semantic_type\": \"\",\n        \"description\": \"\"\n      }\n    }\n  ]\n}"
            }
          },
          "metadata": {},
          "execution_count": 3
        }
      ]
    },
    {
      "cell_type": "markdown",
      "source": [
        "Limpagem de dados - tipo segmento restaurante"
      ],
      "metadata": {
        "id": "7qiK5Eag9g1j"
      }
    },
    {
      "cell_type": "code",
      "source": [
        "# show dataset\n",
        "df.head()\n",
        "\n",
        "# Limpagem de dados - tipo segmento restaurante\n",
        "df['tipo'] = df['tipo'].replace(['Hamburgueria / Hot Dog', 'Lanches', 'Hamburguer / Hot Dog', 'Hamburguer'], 'Hamburgueria / Hot Dog')\n",
        "df['tipo'] = df['tipo'].replace(['Japonesa','Sushi','Asiática / Japonesa'], 'Asiática / Japonesa')"
      ],
      "metadata": {
        "id": "PvOMsJ8t9mbV"
      },
      "execution_count": 18,
      "outputs": []
    },
    {
      "cell_type": "markdown",
      "source": [
        "Quantidade de restaurantes em cada tipo:"
      ],
      "metadata": {
        "id": "gNZl2gjv_jdS"
      }
    },
    {
      "cell_type": "code",
      "source": [
        "restaurant_counts = df.groupby('tipo')['tipo'].count()\n",
        "sorted_restaurant_counts = restaurant_counts.sort_values(ascending=False)\n",
        "sorted_restaurant_counts\n",
        "\n"
      ],
      "metadata": {
        "colab": {
          "base_uri": "https://localhost:8080/",
          "height": 837
        },
        "id": "rG03QWuK_oj2",
        "outputId": "d537317c-9107-4626-84d4-83f2247508d6"
      },
      "execution_count": 29,
      "outputs": [
        {
          "output_type": "execute_result",
          "data": {
            "text/plain": [
              "tipo\n",
              "Hamburgueria / Hot Dog    156\n",
              "Pizzaria                   69\n",
              "Desconhecido               59\n",
              "Açaí                       27\n",
              "Pastel                     25\n",
              "Asiática / Japonesa        23\n",
              "Carnes                     22\n",
              "Tradicional                15\n",
              "Esfiha                     15\n",
              "Doces                      15\n",
              "Frango                     14\n",
              "Massas                      9\n",
              "Salgados                    7\n",
              "Árabe                       5\n",
              "Padaria                     5\n",
              "Café                        4\n",
              "Feijoada                    3\n",
              "Saudável                    2\n",
              "Estrogonoffe                2\n",
              "Burritos                    1\n",
              "Entrenenimento              1\n",
              "Outros                      1\n",
              "Parmeggiana                 1\n",
              "Name: tipo, dtype: int64"
            ],
            "text/html": [
              "<div>\n",
              "<style scoped>\n",
              "    .dataframe tbody tr th:only-of-type {\n",
              "        vertical-align: middle;\n",
              "    }\n",
              "\n",
              "    .dataframe tbody tr th {\n",
              "        vertical-align: top;\n",
              "    }\n",
              "\n",
              "    .dataframe thead th {\n",
              "        text-align: right;\n",
              "    }\n",
              "</style>\n",
              "<table border=\"1\" class=\"dataframe\">\n",
              "  <thead>\n",
              "    <tr style=\"text-align: right;\">\n",
              "      <th></th>\n",
              "      <th>tipo</th>\n",
              "    </tr>\n",
              "    <tr>\n",
              "      <th>tipo</th>\n",
              "      <th></th>\n",
              "    </tr>\n",
              "  </thead>\n",
              "  <tbody>\n",
              "    <tr>\n",
              "      <th>Hamburgueria / Hot Dog</th>\n",
              "      <td>156</td>\n",
              "    </tr>\n",
              "    <tr>\n",
              "      <th>Pizzaria</th>\n",
              "      <td>69</td>\n",
              "    </tr>\n",
              "    <tr>\n",
              "      <th>Desconhecido</th>\n",
              "      <td>59</td>\n",
              "    </tr>\n",
              "    <tr>\n",
              "      <th>Açaí</th>\n",
              "      <td>27</td>\n",
              "    </tr>\n",
              "    <tr>\n",
              "      <th>Pastel</th>\n",
              "      <td>25</td>\n",
              "    </tr>\n",
              "    <tr>\n",
              "      <th>Asiática / Japonesa</th>\n",
              "      <td>23</td>\n",
              "    </tr>\n",
              "    <tr>\n",
              "      <th>Carnes</th>\n",
              "      <td>22</td>\n",
              "    </tr>\n",
              "    <tr>\n",
              "      <th>Tradicional</th>\n",
              "      <td>15</td>\n",
              "    </tr>\n",
              "    <tr>\n",
              "      <th>Esfiha</th>\n",
              "      <td>15</td>\n",
              "    </tr>\n",
              "    <tr>\n",
              "      <th>Doces</th>\n",
              "      <td>15</td>\n",
              "    </tr>\n",
              "    <tr>\n",
              "      <th>Frango</th>\n",
              "      <td>14</td>\n",
              "    </tr>\n",
              "    <tr>\n",
              "      <th>Massas</th>\n",
              "      <td>9</td>\n",
              "    </tr>\n",
              "    <tr>\n",
              "      <th>Salgados</th>\n",
              "      <td>7</td>\n",
              "    </tr>\n",
              "    <tr>\n",
              "      <th>Árabe</th>\n",
              "      <td>5</td>\n",
              "    </tr>\n",
              "    <tr>\n",
              "      <th>Padaria</th>\n",
              "      <td>5</td>\n",
              "    </tr>\n",
              "    <tr>\n",
              "      <th>Café</th>\n",
              "      <td>4</td>\n",
              "    </tr>\n",
              "    <tr>\n",
              "      <th>Feijoada</th>\n",
              "      <td>3</td>\n",
              "    </tr>\n",
              "    <tr>\n",
              "      <th>Saudável</th>\n",
              "      <td>2</td>\n",
              "    </tr>\n",
              "    <tr>\n",
              "      <th>Estrogonoffe</th>\n",
              "      <td>2</td>\n",
              "    </tr>\n",
              "    <tr>\n",
              "      <th>Burritos</th>\n",
              "      <td>1</td>\n",
              "    </tr>\n",
              "    <tr>\n",
              "      <th>Entrenenimento</th>\n",
              "      <td>1</td>\n",
              "    </tr>\n",
              "    <tr>\n",
              "      <th>Outros</th>\n",
              "      <td>1</td>\n",
              "    </tr>\n",
              "    <tr>\n",
              "      <th>Parmeggiana</th>\n",
              "      <td>1</td>\n",
              "    </tr>\n",
              "  </tbody>\n",
              "</table>\n",
              "</div><br><label><b>dtype:</b> int64</label>"
            ]
          },
          "metadata": {},
          "execution_count": 29
        }
      ]
    },
    {
      "cell_type": "markdown",
      "source": [
        "Grafico de Segmentos"
      ],
      "metadata": {
        "id": "4UxgMmlG8kq4"
      }
    },
    {
      "cell_type": "code",
      "source": [
        "\n",
        "import matplotlib.pyplot as plt\n",
        "\n",
        "# Contar a frequência de cada tipo de\n",
        "tipo_counts = df['tipo'].value_counts()\n",
        "\n",
        "# Criar o gráfico de barras\n",
        "plt.figure(figsize=(10, 6))\n",
        "plt.bar(tipo_counts.index, tipo_counts.values)\n",
        "plt.xlabel('Segmento')\n",
        "plt.ylabel('Frequência')\n",
        "plt.title('Tipos de Segmentos dos Restaurantes')\n",
        "plt.xticks(rotation=45, ha='right')  # Rotacionar rótulos do eixo x para melhor visualização\n",
        "plt.tight_layout()\n",
        "plt.show()\n"
      ],
      "metadata": {
        "colab": {
          "base_uri": "https://localhost:8080/",
          "height": 607
        },
        "id": "e60aLL748pVb",
        "outputId": "2063d050-7fb2-4065-99ff-46b0c336ba64"
      },
      "execution_count": 20,
      "outputs": [
        {
          "output_type": "display_data",
          "data": {
            "text/plain": [
              "<Figure size 1000x600 with 1 Axes>"
            ],
            "image/png": "[encoded data removed]"
          },
          "metadata": {}
        }
      ]
    },
    {
      "cell_type": "markdown",
      "source": [
        "Quantos são localizados em Shopping?"
      ],
      "metadata": {
        "id": "w2xLnunWAsE3"
      }
    },
    {
      "cell_type": "code",
      "source": [
        "shopping_counts = df.groupby('Shopping')['Shopping'].count()\n",
        "shopping_counts_sorted = shopping_counts.sort_values(ascending=False)\n",
        "shopping_counts_sorted"
      ],
      "metadata": {
        "colab": {
          "base_uri": "https://localhost:8080/",
          "height": 178
        },
        "id": "R_aAzt-PAw_4",
        "outputId": "05051b3f-a242-4705-9c28-fc18475fe602"
      },
      "execution_count": 30,
      "outputs": [
        {
          "output_type": "execute_result",
          "data": {
            "text/plain": [
              "Shopping\n",
              "Não    465\n",
              "Sim     16\n",
              "Name: Shopping, dtype: int64"
            ],
            "text/html": [
              "<div>\n",
              "<style scoped>\n",
              "    .dataframe tbody tr th:only-of-type {\n",
              "        vertical-align: middle;\n",
              "    }\n",
              "\n",
              "    .dataframe tbody tr th {\n",
              "        vertical-align: top;\n",
              "    }\n",
              "\n",
              "    .dataframe thead th {\n",
              "        text-align: right;\n",
              "    }\n",
              "</style>\n",
              "<table border=\"1\" class=\"dataframe\">\n",
              "  <thead>\n",
              "    <tr style=\"text-align: right;\">\n",
              "      <th></th>\n",
              "      <th>Shopping</th>\n",
              "    </tr>\n",
              "    <tr>\n",
              "      <th>Shopping</th>\n",
              "      <th></th>\n",
              "    </tr>\n",
              "  </thead>\n",
              "  <tbody>\n",
              "    <tr>\n",
              "      <th>Não</th>\n",
              "      <td>465</td>\n",
              "    </tr>\n",
              "    <tr>\n",
              "      <th>Sim</th>\n",
              "      <td>16</td>\n",
              "    </tr>\n",
              "  </tbody>\n",
              "</table>\n",
              "</div><br><label><b>dtype:</b> int64</label>"
            ]
          },
          "metadata": {},
          "execution_count": 30
        }
      ]
    },
    {
      "cell_type": "markdown",
      "source": [
        "Grafico de Localidade"
      ],
      "metadata": {
        "id": "3GnvTHsbBNes"
      }
    },
    {
      "cell_type": "code",
      "source": [
        "\n",
        "import matplotlib.pyplot as plt\n",
        "\n",
        "# Criar o gráfico de pizza\n",
        "plt.figure(figsize=(6, 6))\n",
        "plt.pie(shopping_counts, labels=shopping_counts.index, autopct='%1.1f%%', startangle=90)\n",
        "plt.title('Restaurantes em Shopping')\n",
        "plt.axis('equal')\n",
        "plt.show()\n"
      ],
      "metadata": {
        "colab": {
          "base_uri": "https://localhost:8080/",
          "height": 528
        },
        "id": "lo73CDUWBR6j",
        "outputId": "b5e1cee2-a587-4582-d35b-d0c74f8e7baf"
      },
      "execution_count": 32,
      "outputs": [
        {
          "output_type": "display_data",
          "data": {
            "text/plain": [
              "<Figure size 600x600 with 1 Axes>"
            ],
            "image/png": "[encoded data removed]"
          },
          "metadata": {}
        }
      ]
    },
    {
      "cell_type": "code",
      "source": [
        "import matplotlib.pyplot as md\n",
        "\n",
        "\n",
        "df['pedidos_m0'].mean()\n",
        "df.describe()\n"
      ],
      "metadata": {
        "colab": {
          "base_uri": "https://localhost:8080/",
          "height": 300
        },
        "id": "yR0G0U0-07cQ",
        "outputId": "c7f4f024-6989-479a-ad34-827011ba2d82"
      },
      "execution_count": 4,
      "outputs": [
        {
          "output_type": "execute_result",
          "data": {
            "text/plain": [
              "        pedidos_m0   pedidos_m1   pedidos_m2\n",
              "count   481.000000   481.000000   481.000000\n",
              "mean     57.862786    80.887734    53.632017\n",
              "std     132.328922   205.875114   185.986972\n",
              "min       1.000000     0.000000     0.000000\n",
              "25%       5.000000     0.000000     0.000000\n",
              "50%      12.000000    12.000000     0.000000\n",
              "75%      50.000000    70.000000    23.000000\n",
              "max    1832.000000  2838.000000  2659.000000"
            ],
            "text/html": [
              "\n",
              "  <div id=\"df-fbfed18e-c46c-4b41-be4c-c584a4cd5cda\" class=\"colab-df-container\">\n",
              "    <div>\n",
              "<style scoped>\n",
              "    .dataframe tbody tr th:only-of-type {\n",
              "        vertical-align: middle;\n",
              "    }\n",
              "\n",
              "    .dataframe tbody tr th {\n",
              "        vertical-align: top;\n",
              "    }\n",
              "\n",
              "    .dataframe thead th {\n",
              "        text-align: right;\n",
              "    }\n",
              "</style>\n",
              "<table border=\"1\" class=\"dataframe\">\n",
              "  <thead>\n",
              "    <tr style=\"text-align: right;\">\n",
              "      <th></th>\n",
              "      <th>pedidos_m0</th>\n",
              "      <th>pedidos_m1</th>\n",
              "      <th>pedidos_m2</th>\n",
              "    </tr>\n",
              "  </thead>\n",
              "  <tbody>\n",
              "    <tr>\n",
              "      <th>count</th>\n",
              "      <td>481.000000</td>\n",
              "      <td>481.000000</td>\n",
              "      <td>481.000000</td>\n",
              "    </tr>\n",
              "    <tr>\n",
              "      <th>mean</th>\n",
              "      <td>57.862786</td>\n",
              "      <td>80.887734</td>\n",
              "      <td>53.632017</td>\n",
              "    </tr>\n",
              "    <tr>\n",
              "      <th>std</th>\n",
              "      <td>132.328922</td>\n",
              "      <td>205.875114</td>\n",
              "      <td>185.986972</td>\n",
              "    </tr>\n",
              "    <tr>\n",
              "      <th>min</th>\n",
              "      <td>1.000000</td>\n",
              "      <td>0.000000</td>\n",
              "      <td>0.000000</td>\n",
              "    </tr>\n",
              "    <tr>\n",
              "      <th>25%</th>\n",
              "      <td>5.000000</td>\n",
              "      <td>0.000000</td>\n",
              "      <td>0.000000</td>\n",
              "    </tr>\n",
              "    <tr>\n",
              "      <th>50%</th>\n",
              "      <td>12.000000</td>\n",
              "      <td>12.000000</td>\n",
              "      <td>0.000000</td>\n",
              "    </tr>\n",
              "    <tr>\n",
              "      <th>75%</th>\n",
              "      <td>50.000000</td>\n",
              "      <td>70.000000</td>\n",
              "      <td>23.000000</td>\n",
              "    </tr>\n",
              "    <tr>\n",
              "      <th>max</th>\n",
              "      <td>1832.000000</td>\n",
              "      <td>2838.000000</td>\n",
              "      <td>2659.000000</td>\n",
              "    </tr>\n",
              "  </tbody>\n",
              "</table>\n",
              "</div>\n",
              "    <div class=\"colab-df-buttons\">\n",
              "\n",
              "  <div class=\"colab-df-container\">\n",
              "    <button class=\"colab-df-convert\" onclick=\"convertToInteractive('df-fbfed18e-c46c-4b41-be4c-c584a4cd5cda')\"\n",
              "            title=\"Convert this dataframe to an interactive table.\"\n",
              "            style=\"display:none;\">\n",
              "\n",
              "  <svg xmlns=\"http://www.w3.org/2000/svg\" height=\"24px\" viewBox=\"0 -960 960 960\">\n",
              "    <path d=\"M120-120v-720h720v720H120Zm60-500h600v-160H180v160Zm220 220h160v-160H400v160Zm0 220h160v-160H400v160ZM180-400h160v-160H180v160Zm440 0h160v-160H620v160ZM180-180h160v-160H180v160Zm440 0h160v-160H620v160Z\"/>\n",
              "  </svg>\n",
              "    </button>\n",
              "\n",
              "  <style>\n",
              "    .colab-df-container {\n",
              "      display:flex;\n",
              "      gap: 12px;\n",
              "    }\n",
              "\n",
              "    .colab-df-convert {\n",
              "      background-color: #E8F0FE;\n",
              "      border: none;\n",
              "      border-radius: 50%;\n",
              "      cursor: pointer;\n",
              "      display: none;\n",
              "      fill: #1967D2;\n",
              "      height: 32px;\n",
              "      padding: 0 0 0 0;\n",
              "      width: 32px;\n",
              "    }\n",
              "\n",
              "    .colab-df-convert:hover {\n",
              "      background-color: #E2EBFA;\n",
              "      box-shadow: 0px 1px 2px rgba(60, 64, 67, 0.3), 0px 1px 3px 1px rgba(60, 64, 67, 0.15);\n",
              "      fill: #174EA6;\n",
              "    }\n",
              "\n",
              "    .colab-df-buttons div {\n",
              "      margin-bottom: 4px;\n",
              "    }\n",
              "\n",
              "    [theme=dark] .colab-df-convert {\n",
              "      background-color: #3B4455;\n",
              "      fill: #D2E3FC;\n",
              "    }\n",
              "\n",
              "    [theme=dark] .colab-df-convert:hover {\n",
              "      background-color: #434B5C;\n",
              "      box-shadow: 0px 1px 3px 1px rgba(0, 0, 0, 0.15);\n",
              "      filter: drop-shadow(0px 1px 2px rgba(0, 0, 0, 0.3));\n",
              "      fill: #FFFFFF;\n",
              "    }\n",
              "  </style>\n",
              "\n",
              "    <script>\n",
              "      const buttonEl =\n",
              "        document.querySelector('#df-fbfed18e-c46c-4b41-be4c-c584a4cd5cda button.colab-df-convert');\n",
              "      buttonEl.style.display =\n",
              "        google.colab.kernel.accessAllowed ? 'block' : 'none';\n",
              "\n",
              "      async function convertToInteractive(key) {\n",
              "        const element = document.querySelector('#df-fbfed18e-c46c-4b41-be4c-c584a4cd5cda');\n",
              "        const dataTable =\n",
              "          await google.colab.kernel.invokeFunction('convertToInteractive',\n",
              "                                                    [key], {});\n",
              "        if (!dataTable) return;\n",
              "\n",
              "        const docLinkHtml = 'Like what you see? Visit the ' +\n",
              "          '<a target=\"_blank\" href=https://colab.research.google.com/notebooks/data_table.ipynb>data table notebook</a>'\n",
              "          + ' to learn more about interactive tables.';\n",
              "        element.innerHTML = '';\n",
              "        dataTable['output_type'] = 'display_data';\n",
              "        await google.colab.output.renderOutput(dataTable, element);\n",
              "        const docLink = document.createElement('div');\n",
              "        docLink.innerHTML = docLinkHtml;\n",
              "        element.appendChild(docLink);\n",
              "      }\n",
              "    </script>\n",
              "  </div>\n",
              "\n",
              "\n",
              "<div id=\"df-d77363d9-c7aa-43c9-a971-16f135de05f8\">\n",
              "  <button class=\"colab-df-quickchart\" onclick=\"quickchart('df-d77363d9-c7aa-43c9-a971-16f135de05f8')\"\n",
              "            title=\"Suggest charts\"\n",
              "            style=\"display:none;\">\n",
              "\n",
              "<svg xmlns=\"http://www.w3.org/2000/svg\" height=\"24px\"viewBox=\"0 0 24 24\"\n",
              "     width=\"24px\">\n",
              "    <g>\n",
              "        <path d=\"M19 3H5c-1.1 0-2 .9-2 2v14c0 1.1.9 2 2 2h14c1.1 0 2-.9 2-2V5c0-1.1-.9-2-2-2zM9 17H7v-7h2v7zm4 0h-2V7h2v10zm4 0h-2v-4h2v4z\"/>\n",
              "    </g>\n",
              "</svg>\n",
              "  </button>\n",
              "\n",
              "<style>\n",
              "  .colab-df-quickchart {\n",
              "      --bg-color: #E8F0FE;\n",
              "      --fill-color: #1967D2;\n",
              "      --hover-bg-color: #E2EBFA;\n",
              "      --hover-fill-color: #174EA6;\n",
              "      --disabled-fill-color: #AAA;\n",
              "      --disabled-bg-color: #DDD;\n",
              "  }\n",
              "\n",
              "  [theme=dark] .colab-df-quickchart {\n",
              "      --bg-color: #3B4455;\n",
              "      --fill-color: #D2E3FC;\n",
              "      --hover-bg-color: #434B5C;\n",
              "      --hover-fill-color: #FFFFFF;\n",
              "      --disabled-bg-color: #3B4455;\n",
              "      --disabled-fill-color: #666;\n",
              "  }\n",
              "\n",
              "  .colab-df-quickchart {\n",
              "    background-color: var(--bg-color);\n",
              "    border: none;\n",
              "    border-radius: 50%;\n",
              "    cursor: pointer;\n",
              "    display: none;\n",
              "    fill: var(--fill-color);\n",
              "    height: 32px;\n",
              "    padding: 0;\n",
              "    width: 32px;\n",
              "  }\n",
              "\n",
              "  .colab-df-quickchart:hover {\n",
              "    background-color: var(--hover-bg-color);\n",
              "    box-shadow: 0 1px 2px rgba(60, 64, 67, 0.3), 0 1px 3px 1px rgba(60, 64, 67, 0.15);\n",
              "    fill: var(--button-hover-fill-color);\n",
              "  }\n",
              "\n",
              "  .colab-df-quickchart-complete:disabled,\n",
              "  .colab-df-quickchart-complete:disabled:hover {\n",
              "    background-color: var(--disabled-bg-color);\n",
              "    fill: var(--disabled-fill-color);\n",
              "    box-shadow: none;\n",
              "  }\n",
              "\n",
              "  .colab-df-spinner {\n",
              "    border: 2px solid var(--fill-color);\n",
              "    border-color: transparent;\n",
              "    border-bottom-color: var(--fill-color);\n",
              "    animation:\n",
              "      spin 1s steps(1) infinite;\n",
              "  }\n",
              "\n",
              "  @keyframes spin {\n",
              "    0% {\n",
              "      border-color: transparent;\n",
              "      border-bottom-color: var(--fill-color);\n",
              "      border-left-color: var(--fill-color);\n",
              "    }\n",
              "    20% {\n",
              "      border-color: transparent;\n",
              "      border-left-color: var(--fill-color);\n",
              "      border-top-color: var(--fill-color);\n",
              "    }\n",
              "    30% {\n",
              "      border-color: transparent;\n",
              "      border-left-color: var(--fill-color);\n",
              "      border-top-color: var(--fill-color);\n",
              "      border-right-color: var(--fill-color);\n",
              "    }\n",
              "    40% {\n",
              "      border-color: transparent;\n",
              "      border-right-color: var(--fill-color);\n",
              "      border-top-color: var(--fill-color);\n",
              "    }\n",
              "    60% {\n",
              "      border-color: transparent;\n",
              "      border-right-color: var(--fill-color);\n",
              "    }\n",
              "    80% {\n",
              "      border-color: transparent;\n",
              "      border-right-color: var(--fill-color);\n",
              "      border-bottom-color: var(--fill-color);\n",
              "    }\n",
              "    90% {\n",
              "      border-color: transparent;\n",
              "      border-bottom-color: var(--fill-color);\n",
              "    }\n",
              "  }\n",
              "</style>\n",
              "\n",
              "  <script>\n",
              "    async function quickchart(key) {\n",
              "      const quickchartButtonEl =\n",
              "        document.querySelector('#' + key + ' button');\n",
              "      quickchartButtonEl.disabled = true;  // To prevent multiple clicks.\n",
              "      quickchartButtonEl.classList.add('colab-df-spinner');\n",
              "      try {\n",
              "        const charts = await google.colab.kernel.invokeFunction(\n",
              "            'suggestCharts', [key], {});\n",
              "      } catch (error) {\n",
              "        console.error('Error during call to suggestCharts:', error);\n",
              "      }\n",
              "      quickchartButtonEl.classList.remove('colab-df-spinner');\n",
              "      quickchartButtonEl.classList.add('colab-df-quickchart-complete');\n",
              "    }\n",
              "    (() => {\n",
              "      let quickchartButtonEl =\n",
              "        document.querySelector('#df-d77363d9-c7aa-43c9-a971-16f135de05f8 button');\n",
              "      quickchartButtonEl.style.display =\n",
              "        google.colab.kernel.accessAllowed ? 'block' : 'none';\n",
              "    })();\n",
              "  </script>\n",
              "</div>\n",
              "\n",
              "    </div>\n",
              "  </div>\n"
            ],
            "application/vnd.google.colaboratory.intrinsic+json": {
              "type": "dataframe",
              "summary": "{\n  \"name\": \"df\",\n  \"rows\": 8,\n  \"fields\": [\n    {\n      \"column\": \"pedidos_m0\",\n      \"properties\": {\n        \"dtype\": \"number\",\n        \"std\": 630.7292486493199,\n        \"min\": 1.0,\n        \"max\": 1832.0,\n        \"num_unique_values\": 8,\n        \"samples\": [\n          57.86278586278586,\n          12.0,\n          481.0\n        ],\n        \"semantic_type\": \"\",\n        \"description\": \"\"\n      }\n    },\n    {\n      \"column\": \"pedidos_m1\",\n      \"properties\": {\n        \"dtype\": \"number\",\n        \"std\": 973.9189637392332,\n        \"min\": 0.0,\n        \"max\": 2838.0,\n        \"num_unique_values\": 7,\n        \"samples\": [\n          481.0,\n          80.88773388773389,\n          70.0\n        ],\n        \"semantic_type\": \"\",\n        \"description\": \"\"\n      }\n    },\n    {\n      \"column\": \"pedidos_m2\",\n      \"properties\": {\n        \"dtype\": \"number\",\n        \"std\": 917.481922676111,\n        \"min\": 0.0,\n        \"max\": 2659.0,\n        \"num_unique_values\": 6,\n        \"samples\": [\n          481.0,\n          53.63201663201663,\n          2659.0\n        ],\n        \"semantic_type\": \"\",\n        \"description\": \"\"\n      }\n    }\n  ]\n}"
            }
          },
          "metadata": {},
          "execution_count": 4
        }
      ]
    },
    {
      "cell_type": "code",
      "source": [
        "md.scatter(df.index, df['pedidos_m1'])\n",
        "md.title('grafico 1')\n",
        "md.xlabel('index')\n",
        "md.ylabel('pedidos m1')\n",
        "md.show()"
      ],
      "metadata": {
        "colab": {
          "base_uri": "https://localhost:8080/",
          "height": 472
        },
        "id": "U9etKyFN12S9",
        "outputId": "ea7a8ef7-d65e-456a-c9cc-362ba9b05a84"
      },
      "execution_count": 5,
      "outputs": [
        {
          "output_type": "display_data",
          "data": {
            "text/plain": [
              "<Figure size 640x480 with 1 Axes>"
            ],
            "image/png": "[encoded data removed]"
          },
          "metadata": {}
        }
      ]
    },
    {
      "cell_type": "code",
      "source": [
        "md.scatter(df.index, df['pedidos_m2'])\n",
        "md.title('Pedidos de M2')\n",
        "md.xlabel('index')\n",
        "md.ylabel('pedidos m2')\n",
        "md.show()"
      ],
      "metadata": {
        "id": "tvHvMELk8mao",
        "outputId": "3a99d9f1-6a7d-4602-9687-360ab3072cb3",
        "colab": {
          "base_uri": "https://localhost:8080/",
          "height": 472
        }
      },
      "execution_count": 6,
      "outputs": [
        {
          "output_type": "display_data",
          "data": {
            "text/plain": [
              "<Figure size 640x480 with 1 Axes>"
            ],
            "image/png": "[encoded data removed]"
          },
          "metadata": {}
        }
      ]
    },
    {
      "cell_type": "markdown",
      "source": [
        "#Convertendo as datas para padronizar o formato (limpeza e padronização)\n"
      ],
      "metadata": {
        "id": "WVcgB-x7g-Lo"
      }
    },
    {
      "cell_type": "code",
      "source": [
        "#Convertendo as datas para padronizar o formato (limpeza e padronização)\n",
        "df['data_primeiro_pedido'] = pd.to_datetime(df['data_primeiro_pedido'], format='%d/%m/%Y')\n",
        "df['data_entregue'] = pd.to_datetime(df['data_entregue'], format='%d/%m/%Y')\n",
        "df['data_assinado'] = pd.to_datetime(df['data_assinado'], format='%d/%m/%Y')"
      ],
      "metadata": {
        "id": "emen7sZ-hCSf"
      },
      "execution_count": 7,
      "outputs": []
    },
    {
      "cell_type": "code",
      "source": [
        "janeiro_df = df[(df['data_primeiro_pedido'].dt.year == 2025)&(df['data_primeiro_pedido'].dt.month.isin([ 1, 2]))]\n",
        "print(janeiro_df.shape[0], \"restaurantes ativados em janeiro ou fevereiro de 2025\") #quantos restaurantes fizeram o primeiro pedido em janeiro\n",
        "m2validos_df = df[(df['data_primeiro_pedido'].dt.year == 2024)&(df['data_primeiro_pedido'].dt.month.isin([ 5, 6, 7, 8, 9, 10, 11, 12]))]\n",
        "print(m2validos_df.shape[0], \"restaurantes ativados até dezembro de 2024\")\n",
        "print(df.shape[0], \"restaurantes no total\")"
      ],
      "metadata": {
        "id": "bpcfaP21hn7K",
        "outputId": "a455c4a8-ef9d-4c09-c6fc-f553cd3e56b4",
        "colab": {
          "base_uri": "https://localhost:8080/"
        }
      },
      "execution_count": 8,
      "outputs": [
        {
          "output_type": "stream",
          "name": "stdout",
          "text": [
            "228 restaurantes ativados em janeiro ou fevereiro de 2025\n",
            "253 restaurantes ativados até dezembro de 2024\n",
            "481 restaurantes no total\n"
          ]
        }
      ]
    },
    {
      "cell_type": "markdown",
      "source": [
        "Restaurantes com média de pedidos menor que 10"
      ],
      "metadata": {
        "id": "cyJQBp2-i9Yh"
      }
    },
    {
      "cell_type": "code",
      "source": [
        "M2_e_M1_menor_10 = m2validos_df[(m2validos_df['pedidos_m1'] < 10) & (m2validos_df['pedidos_m2'] < 10)]\n",
        "print(M2_e_M1_menor_10.shape[0], \"restaurantes com pedidos em M1 e M2 menores que 10\")"
      ],
      "metadata": {
        "id": "Mmxdcf05jReo",
        "outputId": "b8a0f3a9-164a-4e2c-a8b3-63c1f02caa09",
        "colab": {
          "base_uri": "https://localhost:8080/"
        }
      },
      "execution_count": 9,
      "outputs": [
        {
          "output_type": "stream",
          "name": "stdout",
          "text": [
            "63 restaurantes com pedidos em M1 e M2 menores que 10\n"
          ]
        }
      ]
    },
    {
      "cell_type": "markdown",
      "source": [
        "A quantidade de pedidos aumenta ou diminui com o tempo de uso do Totem?"
      ],
      "metadata": {
        "id": "hu-xVUtZjUOD"
      }
    },
    {
      "cell_type": "code",
      "source": [
        "m2validos_e_ativos = m2validos_df[~m2validos_df.index.isin(M2_e_M1_menor_10.index)] #aqui pegando o DF de restaurantes que fizeram o pedido anterior a janeiro e que tem\n",
        "M2_em_alta = m2validos_e_ativos[m2validos_e_ativos['pedidos_m2'] >= m2validos_e_ativos['pedidos_m1']] #criar os M2 em alta descartando os inativos ou ativados recentemente\n",
        "print(M2_em_alta.shape[0], \"restaurantes com M2 maior ou igual a M1 (excluindo os de baixa operação e recentemente implantados)\")\n",
        "M2_em_queda = m2validos_e_ativos[    m2validos_e_ativos['pedidos_m2'] < m2validos_e_ativos['pedidos_m1']] #criar os M2 em alta descartando os inativos ou ativados recentemente\n",
        "print(M2_em_queda.shape[0], \"restaurantes com M2 menor que M1 (excluindo os de baixa operação e recentemente implantados)\")"
      ],
      "metadata": {
        "id": "Bjp8HzTBjT-K",
        "outputId": "06de65f4-0a6a-43f6-9db7-1c2ce00b41cf",
        "colab": {
          "base_uri": "https://localhost:8080/"
        }
      },
      "execution_count": 10,
      "outputs": [
        {
          "output_type": "stream",
          "name": "stdout",
          "text": [
            "76 restaurantes com M2 maior ou igual a M1 (excluindo os de baixa operação e recentemente implantados)\n",
            "114 restaurantes com M2 menor que M1 (excluindo os de baixa operação e recentemente implantados)\n"
          ]
        }
      ]
    },
    {
      "cell_type": "markdown",
      "source": [
        "Cálculo do tempo de ativação do Totem"
      ],
      "metadata": {
        "id": "dpkjWTG4jmaM"
      }
    },
    {
      "cell_type": "code",
      "source": [
        "m2validos_df['Tempo de Ativação'] = (m2validos_df['data_primeiro_pedido'] - m2validos_df['data_assinado']).dt.days #criando o indicador te tempo de ativação\n",
        "print(m2validos_df[['loja', 'data_assinado', 'data_primeiro_pedido', 'Tempo de Ativação']].head(10))"
      ],
      "metadata": {
        "id": "rf1WOWoWjtrw",
        "outputId": "550c97a5-da1b-4fa2-b528-74b0c278b84f",
        "colab": {
          "base_uri": "https://localhost:8080/"
        }
      },
      "execution_count": 11,
      "outputs": [
        {
          "output_type": "stream",
          "name": "stdout",
          "text": [
            "        loja data_assinado data_primeiro_pedido  Tempo de Ativação\n",
            "0  Loja - 01    2024-07-09           2024-10-03                 86\n",
            "1  Loja - 02    2024-07-09           2024-08-14                 36\n",
            "2  Loja - 03    2024-07-09           2024-08-28                 50\n",
            "3  Loja - 04    2024-07-10           2024-09-20                 72\n",
            "4  Loja - 05    2024-07-12           2024-08-29                 48\n",
            "5  Loja - 06    2024-07-12           2024-09-06                 56\n",
            "6  Loja - 07    2024-07-12           2024-07-29                 17\n",
            "7  Loja - 08    2024-07-12           2024-08-09                 28\n",
            "8  Loja - 09    2024-07-12           2024-07-25                 13\n",
            "9  Loja - 10    2024-07-17           2024-08-28                 42\n"
          ]
        },
        {
          "output_type": "stream",
          "name": "stderr",
          "text": [
            "<ipython-input-11-5d9cc0da86c3>:1: SettingWithCopyWarning: \n",
            "A value is trying to be set on a copy of a slice from a DataFrame.\n",
            "Try using .loc[row_indexer,col_indexer] = value instead\n",
            "\n",
            "See the caveats in the documentation: https://pandas.pydata.org/pandas-docs/stable/user_guide/indexing.html#returning-a-view-versus-a-copy\n",
            "  m2validos_df['Tempo de Ativação'] = (m2validos_df['data_primeiro_pedido'] - m2validos_df['data_assinado']).dt.days #criando o indicador te tempo de ativação\n"
          ]
        }
      ]
    },
    {
      "cell_type": "markdown",
      "source": [
        "Total de pedidos em M1 e M2 com restauntes ativados até Dez/24"
      ],
      "metadata": {
        "id": "Z3nkbBNdjv-Y"
      }
    },
    {
      "cell_type": "code",
      "source": [
        "import matplotlib.pyplot as plt\n",
        "\n",
        "# 1. Calcular o total de pedidos para M1 e M2 no m2validos_df\n",
        "total_m1 = m2validos_df['pedidos_m1'].sum()\n",
        "total_m2 = m2validos_df['pedidos_m2'].sum()\n",
        "\n",
        "# 2. Criar o gráfico de barras\n",
        "plt.figure(figsize=(8, 6))\n",
        "\n",
        "# Dados para o gráfico\n",
        "meses = ['M1', 'M2']\n",
        "totais = [total_m1, total_m2]\n",
        "\n",
        "plt.bar(meses, totais, width=0.8)\n",
        "\n",
        "# 3. Customizações do gráfico\n",
        "plt.title('Total de Pedidos em M1 e M2 (restaurantes ativados até dez/24)')\n",
        "plt.xlabel('Mês')\n",
        "plt.ylabel('Total de Pedidos')\n",
        "plt.ylim(0, max(totais)*1.1)\n",
        "\n",
        "# 4. Exibir o gráfico\n",
        "plt.show()"
      ],
      "metadata": {
        "id": "04i3HOJ4j5Qv",
        "outputId": "7a4b9374-21dc-4f3f-e0d6-77c2fd76fb6c",
        "colab": {
          "base_uri": "https://localhost:8080/",
          "height": 564
        }
      },
      "execution_count": 12,
      "outputs": [
        {
          "output_type": "display_data",
          "data": {
            "text/plain": [
              "<Figure size 800x600 with 1 Axes>"
            ],
            "image/png": "[encoded data removed]"
          },
          "metadata": {}
        }
      ]
    }
  ]
}